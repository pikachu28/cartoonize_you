{
  "nbformat": 4,
  "nbformat_minor": 0,
  "metadata": {
    "colab": {
      "name": "guided_filter.ipynb",
      "provenance": []
    },
    "kernelspec": {
      "name": "python3",
      "display_name": "Python 3"
    }
  },
  "cells": [
    {
      "cell_type": "code",
      "metadata": {
        "id": "QvrnmO9NWCCV",
        "colab_type": "code",
        "colab": {}
      },
      "source": [
        "import tensorflow as tf\n",
        "import numpy as np"
      ],
      "execution_count": 1,
      "outputs": []
    },
    {
      "cell_type": "code",
      "metadata": {
        "id": "UsJ1jrqjWGcb",
        "colab_type": "code",
        "colab": {}
      },
      "source": [
        "def tf_box_filter(x, r):\n",
        "    k_size = int(2*r+1)\n",
        "    ch = x.get_shape().as_list()[-1]\n",
        "    weight = 1/(k_size**2)\n",
        "    box_kernel = weight*np.ones((k_size, k_size, ch, 1))\n",
        "    box_kernel = np.array(box_kernel).astype(np.float32)\n",
        "    output = tf.nn.depthwise_conv2d(x, box_kernel, [1, 1, 1, 1], 'SAME')\n",
        "    return output\n"
      ],
      "execution_count": 2,
      "outputs": []
    },
    {
      "cell_type": "code",
      "metadata": {
        "id": "tuuNDaUEWIAH",
        "colab_type": "code",
        "colab": {}
      },
      "source": [
        "def guided_filter(x, y, r, eps=1e-2):\n",
        "    \n",
        "    x_shape = tf.shape(x)\n",
        "    #y_shape = tf.shape(y)\n",
        "\n",
        "    N = tf_box_filter(tf.ones((1, x_shape[1], x_shape[2], 1), dtype=x.dtype), r)\n",
        "\n",
        "    mean_x = tf_box_filter(x, r) / N\n",
        "    mean_y = tf_box_filter(y, r) / N\n",
        "    cov_xy = tf_box_filter(x * y, r) / N - mean_x * mean_y\n",
        "    var_x  = tf_box_filter(x * x, r) / N - mean_x * mean_x\n",
        "\n",
        "    A = cov_xy / (var_x + eps)\n",
        "    b = mean_y - A * mean_x\n",
        "\n",
        "    mean_A = tf_box_filter(A, r) / N\n",
        "    mean_b = tf_box_filter(b, r) / N\n",
        "\n",
        "    output = mean_A * x + mean_b\n",
        "\n",
        "    return output\n"
      ],
      "execution_count": 3,
      "outputs": []
    },
    {
      "cell_type": "code",
      "metadata": {
        "id": "J0cp5rc3WJb3",
        "colab_type": "code",
        "colab": {}
      },
      "source": [
        "def fast_guided_filter(lr_x, lr_y, hr_x, r=1, eps=1e-8):\n",
        "    \n",
        "    #assert lr_x.shape.ndims == 4 and lr_y.shape.ndims == 4 and hr_x.shape.ndims == 4\n",
        "   \n",
        "    lr_x_shape = tf.shape(lr_x)\n",
        "    #lr_y_shape = tf.shape(lr_y)\n",
        "    hr_x_shape = tf.shape(hr_x)\n",
        "    \n",
        "    N = tf_box_filter(tf.ones((1, lr_x_shape[1], lr_x_shape[2], 1), dtype=lr_x.dtype), r)\n",
        "\n",
        "    mean_x = tf_box_filter(lr_x, r) / N\n",
        "    mean_y = tf_box_filter(lr_y, r) / N\n",
        "    cov_xy = tf_box_filter(lr_x * lr_y, r) / N - mean_x * mean_y\n",
        "    var_x  = tf_box_filter(lr_x * lr_x, r) / N - mean_x * mean_x\n",
        "\n",
        "    A = cov_xy / (var_x + eps)\n",
        "    b = mean_y - A * mean_x\n",
        "\n",
        "    mean_A = tf.image.resize_images(A, hr_x_shape[1: 3])\n",
        "    mean_b = tf.image.resize_images(b, hr_x_shape[1: 3])\n",
        "\n",
        "    output = mean_A * hr_x + mean_b\n",
        "    \n",
        "    return output"
      ],
      "execution_count": 4,
      "outputs": []
    },
    {
      "cell_type": "code",
      "metadata": {
        "id": "yKOeKlxaWK9N",
        "colab_type": "code",
        "colab": {}
      },
      "source": [
        ""
      ],
      "execution_count": null,
      "outputs": []
    }
  ]
}