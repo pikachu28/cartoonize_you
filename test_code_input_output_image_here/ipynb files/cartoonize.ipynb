{
  "nbformat": 4,
  "nbformat_minor": 0,
  "metadata": {
    "colab": {
      "name": "cartoonize.ipynb",
      "provenance": []
    },
    "kernelspec": {
      "name": "python3",
      "display_name": "Python 3"
    }
  },
  "cells": [
    {
      "cell_type": "code",
      "metadata": {
        "id": "yxhNe1EkBQfA",
        "colab_type": "code",
        "colab": {
          "base_uri": "https://localhost:8080/",
          "height": 35
        },
        "outputId": "f7156333-d732-42f7-e902-62c003293929"
      },
      "source": [
        "%tensorflow_version 1.x\n",
        "import tensorflow\n",
        "print(tensorflow.__version__)\n",
        "\n",
        "import os\n",
        "import cv2\n",
        "import numpy as np\n",
        "import tensorflow as tf \n",
        "from tqdm import tqdm\n"
      ],
      "execution_count": 5,
      "outputs": [
        {
          "output_type": "stream",
          "text": [
            "1.15.2\n"
          ],
          "name": "stdout"
        }
      ]
    },
    {
      "cell_type": "code",
      "metadata": {
        "id": "pAuEdfB_BVDR",
        "colab_type": "code",
        "colab": {}
      },
      "source": [
        "def resize_crop(image):\n",
        "    h, w, c = np.shape(image)\n",
        "    if min(h, w) > 720:\n",
        "        if h > w:\n",
        "            h, w = int(720*h/w), 720\n",
        "        else:\n",
        "            h, w = 720, int(720*w/h)\n",
        "    image = cv2.resize(image, (w, h),\n",
        "                       interpolation=cv2.INTER_AREA)\n",
        "    h, w = (h//8)*8, (w//8)*8\n",
        "    image = image[:h, :w, :]\n",
        "    return image\n",
        "    \n"
      ],
      "execution_count": 6,
      "outputs": []
    },
    {
      "cell_type": "code",
      "metadata": {
        "id": "4OENs3LuDb8H",
        "colab_type": "code",
        "colab": {}
      },
      "source": [
        "    input_photo = tf.placeholder(tf.float32, [1, None, None, 3])\n",
        "    network_out = network.unet_generator(input_photo)\n",
        "    final_out = guided_filter.guided_filter(input_photo, network_out, r=1, eps=5e-3)\n",
        "\n",
        "    all_vars = tf.trainable_variables()\n",
        "    gene_vars = [var for var in all_vars if 'generator' in var.name]\n",
        "    saver = tf.train.Saver(var_list=gene_vars)\n",
        "    \n",
        "    config = tf.ConfigProto()\n",
        "    config.gpu_options.allow_growth = True\n",
        "    sess = tf.Session(config=config)\n",
        "\n",
        "    sess.run(tf.global_variables_initializer())\n",
        "    saver.restore(sess, tf.train.latest_checkpoint(model_path))\n",
        "    name_list = os.listdir(load_folder)\n",
        "    for name in tqdm(name_list):\n",
        "        try:\n",
        "            load_path = os.path.join(load_folder, name)\n",
        "            save_path = os.path.join(save_folder, name)\n",
        "            image = cv2.imread(load_path)\n",
        "            image = resize_crop(image)\n",
        "            batch_image = image.astype(np.float32)/127.5 - 1\n",
        "            batch_image = np.expand_dims(batch_image, axis=0)\n",
        "            output = sess.run(final_out, feed_dict={input_photo: batch_image})\n",
        "            output = (np.squeeze(output)+1)*127.5\n",
        "            output = np.clip(output, 0, 255).astype(np.uint8)\n",
        "            cv2.imwrite(save_path, output)\n",
        "        except:\n",
        "            print('cartoonize {} failed'.format(load_path))\n",
        "\n"
      ],
      "execution_count": null,
      "outputs": []
    },
    {
      "cell_type": "code",
      "metadata": {
        "id": "NbgJTh89V0aJ",
        "colab_type": "code",
        "colab": {}
      },
      "source": [
        "\n",
        "if __name__ == '__main__':\n",
        "    model_path = 'saved_models'\n",
        "    load_folder = 'test_images'\n",
        "    save_folder = 'cartoonized_images'\n",
        "    if not os.path.exists(save_folder):\n",
        "        os.mkdir(save_folder)\n",
        "    cartoonize(load_folder, save_folder, model_path)\n",
        "    "
      ],
      "execution_count": null,
      "outputs": []
    },
    {
      "cell_type": "code",
      "metadata": {
        "id": "hje-bNvNV5xu",
        "colab_type": "code",
        "colab": {}
      },
      "source": [
        ""
      ],
      "execution_count": null,
      "outputs": []
    }
  ]
}