{
  "nbformat": 4,
  "nbformat_minor": 0,
  "metadata": {
    "colab": {
      "name": "network.ipynb",
      "provenance": []
    },
    "kernelspec": {
      "name": "python3",
      "display_name": "Python 3"
    },
    "accelerator": "GPU"
  },
  "cells": [
    {
      "cell_type": "code",
      "metadata": {
        "id": "_l6gr2JKSh-H",
        "colab_type": "code",
        "colab": {}
      },
      "source": [
        "import tensorflow as tf\n",
        "import numpy as np\n",
        "import tensorflow.contrib.slim as slim"
      ],
      "execution_count": null,
      "outputs": []
    },
    {
      "cell_type": "code",
      "metadata": {
        "id": "2CHFDiWzWjDa",
        "colab_type": "code",
        "colab": {}
      },
      "source": [
        "def resblock(inputs, out_channel=32, name='resblock'):\n",
        "    \n",
        "    with tf.variable_scope(name):\n",
        "        \n",
        "        x = slim.convolution2d(inputs, out_channel, [3, 3], \n",
        "                               activation_fn=None, scope='conv1')\n",
        "        x = tf.nn.leaky_relu(x)\n",
        "        x = slim.convolution2d(x, out_channel, [3, 3], \n",
        "                               activation_fn=None, scope='conv2')\n",
        "        \n",
        "        return x + inputs\n"
      ],
      "execution_count": 2,
      "outputs": []
    },
    {
      "cell_type": "code",
      "metadata": {
        "id": "kgOnox-QWjIY",
        "colab_type": "code",
        "colab": {}
      },
      "source": [
        "def unet_generator(inputs, channel=32, num_blocks=4, name='generator', reuse=False):\n",
        "    with tf.variable_scope(name, reuse=reuse):\n",
        "        \n",
        "        x0 = slim.convolution2d(inputs, channel, [7, 7], activation_fn=None)\n",
        "        x0 = tf.nn.leaky_relu(x0)\n",
        "        \n",
        "        x1 = slim.convolution2d(x0, channel, [3, 3], stride=2, activation_fn=None)\n",
        "        x1 = tf.nn.leaky_relu(x1)\n",
        "        x1 = slim.convolution2d(x1, channel*2, [3, 3], activation_fn=None)\n",
        "        x1 = tf.nn.leaky_relu(x1)\n",
        "        \n",
        "        x2 = slim.convolution2d(x1, channel*2, [3, 3], stride=2, activation_fn=None)\n",
        "        x2 = tf.nn.leaky_relu(x2)\n",
        "        x2 = slim.convolution2d(x2, channel*4, [3, 3], activation_fn=None)\n",
        "        x2 = tf.nn.leaky_relu(x2)\n",
        "        \n",
        "        for idx in range(num_blocks):\n",
        "            x2 = resblock(x2, out_channel=channel*4, name='block_{}'.format(idx))\n",
        "            \n",
        "        x2 = slim.convolution2d(x2, channel*2, [3, 3], activation_fn=None)\n",
        "        x2 = tf.nn.leaky_relu(x2)\n",
        "        \n",
        "        h1, w1 = tf.shape(x2)[1], tf.shape(x2)[2]\n",
        "        x3 = tf.image.resize_bilinear(x2, (h1*2, w1*2))\n",
        "        x3 = slim.convolution2d(x3+x1, channel*2, [3, 3], activation_fn=None)\n",
        "        x3 = tf.nn.leaky_relu(x3)\n",
        "        x3 = slim.convolution2d(x3, channel, [3, 3], activation_fn=None)\n",
        "        x3 = tf.nn.leaky_relu(x3)\n",
        "\n",
        "        h2, w2 = tf.shape(x3)[1], tf.shape(x3)[2]\n",
        "        x4 = tf.image.resize_bilinear(x3, (h2*2, w2*2))\n",
        "        x4 = slim.convolution2d(x4+x0, channel, [3, 3], activation_fn=None)\n",
        "        x4 = tf.nn.leaky_relu(x4)\n",
        "        x4 = slim.convolution2d(x4, 3, [7, 7], activation_fn=None)\n",
        "        \n",
        "        return x4"
      ],
      "execution_count": 3,
      "outputs": []
    },
    {
      "cell_type": "code",
      "metadata": {
        "id": "VmSE_tavWoO7",
        "colab_type": "code",
        "colab": {}
      },
      "source": [
        "if __name__ == '__main__':\n",
        "    \n",
        "\n",
        "    pass"
      ],
      "execution_count": 4,
      "outputs": []
    },
    {
      "cell_type": "markdown",
      "metadata": {
        "id": "MpdZ9o6ctGDp",
        "colab_type": "text"
      },
      "source": [
        ""
      ]
    }
  ]
}